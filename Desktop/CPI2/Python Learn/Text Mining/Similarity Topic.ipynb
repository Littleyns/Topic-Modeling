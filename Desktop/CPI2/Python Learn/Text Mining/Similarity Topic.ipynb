{
 "cells": [
  {
   "cell_type": "code",
   "execution_count": 13,
   "metadata": {},
   "outputs": [],
   "source": [
    "import pprint\n",
    "import os\n",
    "import io\n",
    "import nltk\n",
    "from nltk.corpus import stopwords\n",
    "from urlextract import URLExtract\n",
    "import re\n",
    "from collections import defaultdict\n",
    "from gensim import corpora\n",
    "from gensim import models\n",
    "from gensim import similarities"
   ]
  },
  {
   "cell_type": "code",
   "execution_count": 14,
   "metadata": {},
   "outputs": [],
   "source": [
    "article_corpus = []\n",
    "listnames = os.listdir(\"Articlestxt/\")\n",
    "urlpattern =r\"\"\"(?i)\\b((?:https?:(?:/{1,3}|[a-z0-9%])|[a-z0-9.\\-]+[.](?:com|net|org|edu|gov|mil|aero|asia|biz|cat|coop|info|int|jobs|mobi|museum|name|post|pro|tel|travel|xxx|ac|ad|ae|af|ag|ai|al|am|an|ao|aq|ar|as|at|au|aw|ax|az|ba|bb|bd|be|bf|bg|bh|bi|bj|bm|bn|bo|br|bs|bt|bv|bw|by|bz|ca|cc|cd|cf|cg|ch|ci|ck|cl|cm|cn|co|cr|cs|cu|cv|cx|cy|cz|dd|de|dj|dk|dm|do|dz|ec|ee|eg|eh|er|es|et|eu|fi|fj|fk|fm|fo|fr|ga|gb|gd|ge|gf|gg|gh|gi|gl|gm|gn|gp|gq|gr|gs|gt|gu|gw|gy|hk|hm|hn|hr|ht|hu|id|ie|il|im|in|io|iq|ir|is|it|je|jm|jo|jp|ke|kg|kh|ki|km|kn|kp|kr|kw|ky|kz|la|lb|lc|li|lk|lr|ls|lt|lu|lv|ly|ma|mc|md|me|mg|mh|mk|ml|mm|mn|mo|mp|mq|mr|ms|mt|mu|mv|mw|mx|my|mz|na|nc|ne|nf|ng|ni|nl|no|np|nr|nu|nz|om|pa|pe|pf|pg|ph|pk|pl|pm|pn|pr|ps|pt|pw|py|qa|re|ro|rs|ru|rw|sa|sb|sc|sd|se|sg|sh|si|sj|Ja|sk|sl|sm|sn|so|sr|ss|st|su|sv|sx|sy|sz|tc|td|tf|tg|th|tj|tk|tl|tm|tn|to|tp|tr|tt|tv|tw|tz|ua|ug|uk|us|uy|uz|va|vc|ve|vg|vi|vn|vu|wf|ws|ye|yt|yu|za|zm|zw)/)(?:[^\\s()<>{}\\[\\]]+|\\([^\\s()]*?\\([^\\s()]+\\)[^\\s()]*?\\)|\\([^\\s]+?\\))+(?:\\([^\\s()]*?\\([^\\s()]+\\)[^\\s()]*?\\)|\\([^\\s]+?\\)|[^\\s`!()\\[\\]{};:'\".,<>?«»“”‘’])|(?:(?<!@)[a-z0-9]+(?:[.\\-][a-z0-9]+)*[.](?:com|net|org|edu|gov|mil|aero|asia|biz|cat|coop|info|int|jobs|mobi|museum|name|post|pro|tel|travel|xxx|ac|ad|ae|af|ag|ai|al|am|an|ao|aq|ar|as|at|au|aw|ax|az|ba|bb|bd|be|bf|bg|bh|bi|bj|bm|bn|bo|br|bs|bt|bv|bw|by|bz|ca|cc|cd|cf|cg|ch|ci|ck|cl|cm|cn|co|cr|cs|cu|cv|cx|cy|cz|dd|de|dj|dk|dm|do|dz|ec|ee|eg|eh|er|es|et|eu|fi|fj|fk|fm|fo|fr|ga|gb|gd|ge|gf|gg|gh|gi|gl|gm|gn|gp|gq|gr|gs|gt|gu|gw|gy|hk|hm|hn|hr|ht|hu|id|ie|il|im|in|io|iq|ir|is|it|je|jm|jo|jp|ke|kg|kh|ki|km|kn|kp|kr|kw|ky|kz|la|lb|lc|li|lk|lr|ls|lt|lu|lv|ly|ma|mc|md|me|mg|mh|mk|ml|mm|mn|mo|mp|mq|mr|ms|mt|mu|mv|mw|mx|my|mz|na|nc|ne|nf|ng|ni|nl|no|np|nr|nu|nz|om|pa|pe|pf|pg|ph|pk|pl|pm|pn|pr|ps|pt|pw|py|qa|re|ro|rs|ru|rw|sa|sb|sc|sd|se|sg|sh|si|sj|Ja|sk|sl|sm|sn|so|sr|ss|st|su|sv|sx|sy|sz|tc|td|tf|tg|th|tj|tk|tl|tm|tn|to|tp|tr|tt|tv|tw|tz|ua|ug|uk|us|uy|uz|va|vc|ve|vg|vi|vn|vu|wf|ws|ye|yt|yu|za|zm|zw)\\b/?(?!@)))\"\"\""
   ]
  },
  {
   "cell_type": "code",
   "execution_count": 15,
   "metadata": {},
   "outputs": [],
   "source": [
    "for i in range(len(listnames)):\n",
    "    with io.open('Articlestxt/'+listnames[i],'r',encoding=\"utf-8\") as f:\n",
    "        article_corpus.append(f.read() )\n",
    "        article_corpus[i]=re.sub(urlpattern,'',article_corpus[i])\n",
    "        article_corpus[i]=re.sub('\\(*\\d+\\)','',article_corpus[i])"
   ]
  },
  {
   "cell_type": "code",
   "execution_count": 16,
   "metadata": {
    "scrolled": true
   },
   "outputs": [],
   "source": [
    "stoplist = set(stopwords.words('english'))\n",
    "texts = [[word for word in document.lower().split() if word not in stoplist] for document in article_corpus]"
   ]
  },
  {
   "cell_type": "code",
   "execution_count": 17,
   "metadata": {},
   "outputs": [],
   "source": [
    "frequency = defaultdict(int)\n",
    "for text in texts:\n",
    "    for token in text:\n",
    "        frequency[token] += 1\n",
    "processed_corpus = [[token for token in text if frequency[token] > 2] for text in texts]"
   ]
  },
  {
   "cell_type": "code",
   "execution_count": 18,
   "metadata": {},
   "outputs": [
    {
     "name": "stdout",
     "output_type": "stream",
     "text": [
      "Dictionary(29222 unique tokens: ['&', '(30min)', '(amit', '(an', '(barratt']...)\n"
     ]
    }
   ],
   "source": [
    "dictionary = corpora.Dictionary(processed_corpus)\n",
    "print(dictionary)"
   ]
  },
  {
   "cell_type": "code",
   "execution_count": 19,
   "metadata": {},
   "outputs": [],
   "source": [
    "##new_doc = \"Human computer interaction\"\n",
    "##new_vec = dictionary.doc2bow(new_doc.lower().split())\n",
    "##print(new_vec)"
   ]
  },
  {
   "cell_type": "code",
   "execution_count": 20,
   "metadata": {},
   "outputs": [],
   "source": [
    "bow_corpus = [dictionary.doc2bow(text) for text in processed_corpus]"
   ]
  },
  {
   "cell_type": "code",
   "execution_count": 21,
   "metadata": {},
   "outputs": [],
   "source": [
    "tfidf = models.TfidfModel(bow_corpus)"
   ]
  },
  {
   "cell_type": "code",
   "execution_count": 22,
   "metadata": {},
   "outputs": [],
   "source": [
    "index = similarities.SparseMatrixSimilarity(tfidf[bow_corpus], num_features=len(dictionary)-1)"
   ]
  },
  {
   "cell_type": "code",
   "execution_count": 32,
   "metadata": {},
   "outputs": [],
   "source": [
    "with io.open('lol.txt','r',encoding='utf-8') as f:\n",
    "    querydoc = f.read().split()\n",
    "    \n",
    "    \n",
    "query_bow = dictionary.doc2bow(querydoc)\n",
    "sims = index[tfidf[query_bow]]\n"
   ]
  },
  {
   "cell_type": "code",
   "execution_count": 33,
   "metadata": {},
   "outputs": [
    {
     "name": "stdout",
     "output_type": "stream",
     "text": [
      "Very important-BC-systematic ---------> 0.064931534\n",
      "1-s2.0-S0019850120308518-main ---------> 0.051644526\n",
      "sd.2088 ---------> 0.03933922\n",
      "Ex of new tech and sustain ---------> 0.037517384\n",
      "1-s2.0-S0040162520313081-main ---------> 0.032709707\n",
      "jiec.12051 ---------> 0.03242848\n",
      "bse.2684 ---------> 0.030632395\n",
      "impact of digital tech on eco_ env perform ---------> 0.029765787\n",
      "Blockchain and carbon emissions ---------> 0.027860083\n",
      "Industry 4.0_ logistics ---------> 0.027636837\n",
      "tran.12363 ---------> 0.027065115\n",
      "beer.12259 ---------> 0.026932208\n",
      "IoT _ SSC ---------> 0.025978561\n",
      "1-s2.0-S2096248717300073-main ---------> 0.02538016\n",
      "j.1530-9290.2012.00512.x ---------> 0.023234999\n",
      "1-s2.0-S2351978920316541-main ---------> 0.022907395\n",
      "Very import(include references) ---------> 0.022456486\n",
      "jsc.2361 ---------> 0.020602023\n",
      "1-s2.0-S259012302030058X-main ---------> 0.020442784\n",
      "1-s2.0-S2352864819301166-main ---------> 0.020247297\n",
      "digitalization _ sust in FMCG ---------> 0.019446276\n",
      "agri-food _ SC_ technologies ---------> 0.019388765\n",
      "business model archetypes _ sustainability  ---------> 0.01877056\n",
      "to be reviewed ---------> 0.018155178\n",
      "1-s2.0-S2351978917306820-main ---------> 0.017685737\n",
      "1-s2.0-S187770581730053X-main ---------> 0.01750814\n",
      "Framework for smart SCM ---------> 0.01744683\n",
      "1-s2.0-S0264410X20311592-main ---------> 0.017167505\n",
      "1-s2.0-S0040162520313627-main ---------> 0.01681592\n",
      "jsc.2187 ---------> 0.0162137\n",
      "1-s2.0-S235197892032103X-main ---------> 0.016204005\n",
      "1-s2.0-S0360835218306156-main ---------> 0.01602396\n",
      "1-s2.0-S2351978920301906-main ---------> 0.015388399\n",
      "Industry 4.0 _ circular economy ---------> 0.015330199\n",
      "1-s2.0-S1573521419301769-main ---------> 0.014959808\n",
      "1-s2.0-S0268401219301422-main ---------> 0.014799921\n",
      "An investigation of key performance indicators ---------> 0.0147896465\n",
      "1-s2.0-S0040162520312919-main ---------> 0.014454928\n",
      "ejed.12242 ---------> 0.014069679\n",
      "risa.13610 ---------> 0.014043198\n",
      "1-s2.0-S0959652614009937-main ---------> 0.013563564\n",
      "1-s2.0-S2212827119304524-main ---------> 0.013392649\n",
      "1-s2.0-S2351978920320990-main ---------> 0.013327251\n",
      "1-s2.0-S1367578820300766-main ---------> 0.013070813\n",
      "1-s2.0-S2452414X20300327-main ---------> 0.012572507\n",
      "1-s2.0-S2351978918312782-main ---------> 0.012476245\n",
      "SC, BC, UNSDG ---------> 0.012228077\n",
      "1-s2.0-S0019850119300835-main ---------> 0.012164479\n",
      "smart tech and corporate sust ---------> 0.012042844\n",
      "BC in agri-food ---------> 0.011968132\n",
      "1-s2.0-S0360835219304814-main ---------> 0.011676894\n",
      "1-s2.0-S240589631831485X-main ---------> 0.011646043\n",
      "1-s2.0-S1366554518313589-main ---------> 0.011490347\n",
      "IAV and env sustainability ---------> 0.011439618\n",
      "Blockchain barriers in Humanitarian SC ---------> 0.011397832\n",
      "1-s2.0-S0040162517317225-main ---------> 0.011372515\n",
      "Intelligent sustainable supplier selection ---------> 0.01093835\n",
      "digital twins for contruction sites ---------> 0.010838885\n",
      "1-s2.0-S2212827120310209-main ---------> 0.010647091\n",
      "1-s2.0-S0167923608000808-main ---------> 0.010613208\n",
      "I4 tech in Australian SC(impacts) ---------> 0.01047159\n",
      "jbl.12233 ---------> 0.010346223\n",
      "BC _SC performance ---------> 0.010060463\n",
      "SSC_SScomplexity_interesting references ---------> 0.009924976\n",
      "BC_ SC experts opinions ---------> 0.009920716\n",
      "1-s2.0-S2351978920304935-main ---------> 0.009906641\n",
      "drev.10336 ---------> 0.009868597\n",
      "1-s2.0-S092552731930249X-main ---------> 0.009858372\n",
      "1-s2.0-S004016252031074X-main ---------> 0.009798908\n",
      "1-s2.0-S2351978920300299-main ---------> 0.009652563\n",
      "1-s2.0-S240589631931095X-main ---------> 0.009491917\n",
      "1-s2.0-S0925527320302176-main ---------> 0.009465848\n",
      "1-s2.0-S2351978920303589-main ---------> 0.00936106\n",
      "1-s2.0-S0378720620303293-main ---------> 0.009301445\n",
      "1-s2.0-S0275531919300558-main ---------> 0.009145701\n",
      "1-s2.0-S2405896318328702-main ---------> 0.009098472\n",
      "1-s2.0-S2212827120306338-main ---------> 0.008873021\n",
      "BC and SCM benefits ---------> 0.008819425\n",
      "1-s2.0-S1877050919312712-main ---------> 0.008782436\n",
      "1-s2.0-S2405896319323493-main ---------> 0.008735493\n",
      "1-s2.0-S0160791X18301829-main ---------> 0.008682515\n",
      "1-s2.0-S2405896319310869-main ---------> 0.008635796\n",
      "1-s2.0-S0740624X17303192-main ---------> 0.008476298\n",
      "1-s2.0-S2351978920300731-main ---------> 0.00845472\n",
      "1-s2.0-S0965856419301302-main ---------> 0.008339883\n",
      "Reverse logistics _ IoT ---------> 0.008311721\n",
      "1-s2.0-S0040162520312336-main ---------> 0.008284287\n",
      "1-s2.0-S2405896319313126-main ---------> 0.008210047\n",
      "1-s2.0-S0957417419304956-main ---------> 0.008134176\n",
      "1-s2.0-S2351978920306314-main ---------> 0.008077446\n",
      "1759-3441.12274 ---------> 0.008068327\n",
      "1-s2.0-S2351978920300810-main ---------> 0.007909631\n",
      "1-s2.0-S2212827119304640-main ---------> 0.007531437\n",
      "1-s2.0-S0040162520309185-main ---------> 0.00731137\n",
      "1-s2.0-S0019850120301851-main ---------> 0.0072880993\n",
      "1-s2.0-S0378720620303049-main ---------> 0.007237581\n",
      "digital procurement _not import ---------> 0.007184243\n",
      "1-s2.0-S2212827116307909-main ---------> 0.0071227076\n",
      "Tripple A digital supply chains ---------> 0.0067379773\n",
      "SC perfo measurement AI +SCOR metrics ---------> 0.0065944027\n",
      "I4.0_ 10R adv manuf for sustain ---------> 0.006560482\n",
      "1-s2.0-S2212827119305128-main ---------> 0.0065290853\n",
      "1-s2.0-S0268401218313677-main ---------> 0.0065228115\n",
      "Digital SC (Framework important) ---------> 0.006512644\n",
      "1-s2.0-S1366554520308243-main ---------> 0.0062949113\n",
      "1-s2.0-S0925527320302000-main ---------> 0.006024768\n",
      "Sust performance _ data analytics important ---------> 0.005972399\n",
      "Supply chain digitalization framework ---------> 0.005882912\n",
      "1-s2.0-S2405896319311565-main ---------> 0.005869385\n",
      "big data analytics _ SSC ---------> 0.005611839\n",
      "1-s2.0-S2405896318313314-main ---------> 0.0055594216\n",
      "BC traceability in ASC  ---------> 0.0053082183\n",
      "1-s2.0-S1877050920306724-main ---------> 0.0050756806\n",
      "1-s2.0-S146708951200036X-main (1) ---------> 0.004931659\n",
      "1-s2.0-S2405896316328403-main ---------> 0.004646704\n",
      "1-s2.0-S2351978920301578-main ---------> 0.0044212476\n",
      "poms.12718 ---------> 0.0043950453\n",
      "1-s2.0-S016792361000151X-main ---------> 0.0040657055\n",
      "3DP for SC ---------> 0.003649732\n",
      "1-s2.0-S2212827117302536-main ---------> 0.003574673\n",
      "1-s2.0-S1877050919319787-main ---------> 0.0033950633\n",
      "1-s2.0-S095741742030703X-main ---------> 0.002472031\n"
     ]
    }
   ],
   "source": [
    "for document_number, score in sorted(enumerate(sims), key=lambda x: x[1], reverse=True):\n",
    "    print(listnames[document_number][:-4]+\" --------->\", score)"
   ]
  },
  {
   "cell_type": "code",
   "execution_count": null,
   "metadata": {},
   "outputs": [],
   "source": []
  }
 ],
 "metadata": {
  "kernelspec": {
   "display_name": "Python 3",
   "language": "python",
   "name": "python3"
  },
  "language_info": {
   "codemirror_mode": {
    "name": "ipython",
    "version": 3
   },
   "file_extension": ".py",
   "mimetype": "text/x-python",
   "name": "python",
   "nbconvert_exporter": "python",
   "pygments_lexer": "ipython3",
   "version": "3.8.5"
  }
 },
 "nbformat": 4,
 "nbformat_minor": 4
}
